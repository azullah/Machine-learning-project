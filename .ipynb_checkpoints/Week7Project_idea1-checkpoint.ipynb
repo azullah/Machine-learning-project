{
 "cells": [
  {
   "cell_type": "markdown",
   "id": "75ccb84d-5c2b-4b3e-9c14-7df412283762",
   "metadata": {},
   "source": [
    "# DTSA-5509 Machine Learning - Week 7 Project\n",
    "## A Z Ullah\n",
    "## University of Colorado, Boulder \n",
    "## Date: 2023-06-19\n",
    "## Credit Card fraud transaction detection  "
   ]
  },
  {
   "cell_type": "markdown",
   "id": "9c9ab40e-484b-4a68-bd0b-60768276f151",
   "metadata": {},
   "source": [
    "#### [Github repository]()\n",
    "This project will apply supoervised machine learning methods to correctly identify the fraud credit card transactions. The dataset of transactions was obtained from kaggle: https://www.kaggle.com/datasets/mlg-ulb/creditcardfraud\n",
    "\n",
    "The dataset contains transactions made by credit cards in September 2013 by European cardholders.\n",
    "This dataset presents transactions that occurred in two days, where we have 492 frauds out of 284,807 transactions. The dataset is highly unbalanced, the positive class (frauds) account for 0.172% of all transactions.\n",
    "\n",
    "It contains only numerical input variables which are the result of a PCA transformation. Unfortunately, due to confidentiality issues, we cannot provide the original features and more background information about the data. Features V1, V2, … V28 are the principal components obtained with PCA, the only features which have not been transformed with PCA are 'Time' and 'Amount'. Feature 'Time' contains the seconds elapsed between each transaction and the first transaction in the dataset. The feature 'Amount' is the transaction Amount, this feature can be used for example-dependant cost-sensitive learning. Feature 'Class' is the response variable and it takes value 1 in case of fraud and 0 otherwise.\n",
    "\n",
    "Given the class imbalance ratio, we recommend measuring the accuracy using the **Area Under the Precision-Recall Curve (AUPRC)**. Confusion matrix accuracy is not meaningful for unbalanced classification.\n"
   ]
  },
  {
   "cell_type": "code",
   "execution_count": 3,
   "id": "9559d1af-64d8-4915-90ec-ba8e77c13dbe",
   "metadata": {},
   "outputs": [
    {
     "data": {
      "text/html": [
       "<div>\n",
       "<style scoped>\n",
       "    .dataframe tbody tr th:only-of-type {\n",
       "        vertical-align: middle;\n",
       "    }\n",
       "\n",
       "    .dataframe tbody tr th {\n",
       "        vertical-align: top;\n",
       "    }\n",
       "\n",
       "    .dataframe thead th {\n",
       "        text-align: right;\n",
       "    }\n",
       "</style>\n",
       "<table border=\"1\" class=\"dataframe\">\n",
       "  <thead>\n",
       "    <tr style=\"text-align: right;\">\n",
       "      <th></th>\n",
       "      <th>Time</th>\n",
       "      <th>V1</th>\n",
       "      <th>V2</th>\n",
       "      <th>V3</th>\n",
       "      <th>V4</th>\n",
       "      <th>V5</th>\n",
       "      <th>V6</th>\n",
       "      <th>V7</th>\n",
       "      <th>V8</th>\n",
       "      <th>V9</th>\n",
       "      <th>...</th>\n",
       "      <th>V21</th>\n",
       "      <th>V22</th>\n",
       "      <th>V23</th>\n",
       "      <th>V24</th>\n",
       "      <th>V25</th>\n",
       "      <th>V26</th>\n",
       "      <th>V27</th>\n",
       "      <th>V28</th>\n",
       "      <th>Amount</th>\n",
       "      <th>Class</th>\n",
       "    </tr>\n",
       "  </thead>\n",
       "  <tbody>\n",
       "    <tr>\n",
       "      <th>0</th>\n",
       "      <td>0.0</td>\n",
       "      <td>-1.359807</td>\n",
       "      <td>-0.072781</td>\n",
       "      <td>2.536347</td>\n",
       "      <td>1.378155</td>\n",
       "      <td>-0.338321</td>\n",
       "      <td>0.462388</td>\n",
       "      <td>0.239599</td>\n",
       "      <td>0.098698</td>\n",
       "      <td>0.363787</td>\n",
       "      <td>...</td>\n",
       "      <td>-0.018307</td>\n",
       "      <td>0.277838</td>\n",
       "      <td>-0.110474</td>\n",
       "      <td>0.066928</td>\n",
       "      <td>0.128539</td>\n",
       "      <td>-0.189115</td>\n",
       "      <td>0.133558</td>\n",
       "      <td>-0.021053</td>\n",
       "      <td>149.62</td>\n",
       "      <td>0</td>\n",
       "    </tr>\n",
       "    <tr>\n",
       "      <th>1</th>\n",
       "      <td>0.0</td>\n",
       "      <td>1.191857</td>\n",
       "      <td>0.266151</td>\n",
       "      <td>0.166480</td>\n",
       "      <td>0.448154</td>\n",
       "      <td>0.060018</td>\n",
       "      <td>-0.082361</td>\n",
       "      <td>-0.078803</td>\n",
       "      <td>0.085102</td>\n",
       "      <td>-0.255425</td>\n",
       "      <td>...</td>\n",
       "      <td>-0.225775</td>\n",
       "      <td>-0.638672</td>\n",
       "      <td>0.101288</td>\n",
       "      <td>-0.339846</td>\n",
       "      <td>0.167170</td>\n",
       "      <td>0.125895</td>\n",
       "      <td>-0.008983</td>\n",
       "      <td>0.014724</td>\n",
       "      <td>2.69</td>\n",
       "      <td>0</td>\n",
       "    </tr>\n",
       "    <tr>\n",
       "      <th>2</th>\n",
       "      <td>1.0</td>\n",
       "      <td>-1.358354</td>\n",
       "      <td>-1.340163</td>\n",
       "      <td>1.773209</td>\n",
       "      <td>0.379780</td>\n",
       "      <td>-0.503198</td>\n",
       "      <td>1.800499</td>\n",
       "      <td>0.791461</td>\n",
       "      <td>0.247676</td>\n",
       "      <td>-1.514654</td>\n",
       "      <td>...</td>\n",
       "      <td>0.247998</td>\n",
       "      <td>0.771679</td>\n",
       "      <td>0.909412</td>\n",
       "      <td>-0.689281</td>\n",
       "      <td>-0.327642</td>\n",
       "      <td>-0.139097</td>\n",
       "      <td>-0.055353</td>\n",
       "      <td>-0.059752</td>\n",
       "      <td>378.66</td>\n",
       "      <td>0</td>\n",
       "    </tr>\n",
       "    <tr>\n",
       "      <th>3</th>\n",
       "      <td>1.0</td>\n",
       "      <td>-0.966272</td>\n",
       "      <td>-0.185226</td>\n",
       "      <td>1.792993</td>\n",
       "      <td>-0.863291</td>\n",
       "      <td>-0.010309</td>\n",
       "      <td>1.247203</td>\n",
       "      <td>0.237609</td>\n",
       "      <td>0.377436</td>\n",
       "      <td>-1.387024</td>\n",
       "      <td>...</td>\n",
       "      <td>-0.108300</td>\n",
       "      <td>0.005274</td>\n",
       "      <td>-0.190321</td>\n",
       "      <td>-1.175575</td>\n",
       "      <td>0.647376</td>\n",
       "      <td>-0.221929</td>\n",
       "      <td>0.062723</td>\n",
       "      <td>0.061458</td>\n",
       "      <td>123.50</td>\n",
       "      <td>0</td>\n",
       "    </tr>\n",
       "    <tr>\n",
       "      <th>4</th>\n",
       "      <td>2.0</td>\n",
       "      <td>-1.158233</td>\n",
       "      <td>0.877737</td>\n",
       "      <td>1.548718</td>\n",
       "      <td>0.403034</td>\n",
       "      <td>-0.407193</td>\n",
       "      <td>0.095921</td>\n",
       "      <td>0.592941</td>\n",
       "      <td>-0.270533</td>\n",
       "      <td>0.817739</td>\n",
       "      <td>...</td>\n",
       "      <td>-0.009431</td>\n",
       "      <td>0.798278</td>\n",
       "      <td>-0.137458</td>\n",
       "      <td>0.141267</td>\n",
       "      <td>-0.206010</td>\n",
       "      <td>0.502292</td>\n",
       "      <td>0.219422</td>\n",
       "      <td>0.215153</td>\n",
       "      <td>69.99</td>\n",
       "      <td>0</td>\n",
       "    </tr>\n",
       "  </tbody>\n",
       "</table>\n",
       "<p>5 rows × 31 columns</p>\n",
       "</div>"
      ],
      "text/plain": [
       "   Time        V1        V2        V3        V4        V5        V6        V7  \\\n",
       "0   0.0 -1.359807 -0.072781  2.536347  1.378155 -0.338321  0.462388  0.239599   \n",
       "1   0.0  1.191857  0.266151  0.166480  0.448154  0.060018 -0.082361 -0.078803   \n",
       "2   1.0 -1.358354 -1.340163  1.773209  0.379780 -0.503198  1.800499  0.791461   \n",
       "3   1.0 -0.966272 -0.185226  1.792993 -0.863291 -0.010309  1.247203  0.237609   \n",
       "4   2.0 -1.158233  0.877737  1.548718  0.403034 -0.407193  0.095921  0.592941   \n",
       "\n",
       "         V8        V9  ...       V21       V22       V23       V24       V25  \\\n",
       "0  0.098698  0.363787  ... -0.018307  0.277838 -0.110474  0.066928  0.128539   \n",
       "1  0.085102 -0.255425  ... -0.225775 -0.638672  0.101288 -0.339846  0.167170   \n",
       "2  0.247676 -1.514654  ...  0.247998  0.771679  0.909412 -0.689281 -0.327642   \n",
       "3  0.377436 -1.387024  ... -0.108300  0.005274 -0.190321 -1.175575  0.647376   \n",
       "4 -0.270533  0.817739  ... -0.009431  0.798278 -0.137458  0.141267 -0.206010   \n",
       "\n",
       "        V26       V27       V28  Amount  Class  \n",
       "0 -0.189115  0.133558 -0.021053  149.62      0  \n",
       "1  0.125895 -0.008983  0.014724    2.69      0  \n",
       "2 -0.139097 -0.055353 -0.059752  378.66      0  \n",
       "3 -0.221929  0.062723  0.061458  123.50      0  \n",
       "4  0.502292  0.219422  0.215153   69.99      0  \n",
       "\n",
       "[5 rows x 31 columns]"
      ]
     },
     "execution_count": 3,
     "metadata": {},
     "output_type": "execute_result"
    }
   ],
   "source": [
    "import pandas as pd\n",
    "\n",
    "df = pd.read_csv('.\\data\\creditcard.csv')\n",
    "df.head()"
   ]
  },
  {
   "cell_type": "code",
   "execution_count": 4,
   "id": "0807d043-013a-4e52-96ba-19994d56a619",
   "metadata": {},
   "outputs": [],
   "source": [
    "from mpl_toolkits.mplot3d import Axes3D\n",
    "from sklearn.preprocessing import StandardScaler\n",
    "import matplotlib.pyplot as plt # plotting\n",
    "import numpy as np # linear algebra\n",
    "import os # accessing directory structure\n",
    "##########################################\n",
    "import scipy as sp\n",
    "import scipy.stats as stats\n",
    "import seaborn as sns\n",
    "# Set color map to have light blue background\n",
    "sns.set()\n",
    "import statsmodels.formula.api as smf\n",
    "import statsmodels.api as sm\n",
    "from sklearn.linear_model import LogisticRegression\n",
    "from sklearn.datasets import load_breast_cancer\n",
    "from sklearn.model_selection import train_test_split\n",
    "from sklearn.metrics import roc_auc_score\n",
    "from sklearn.metrics import roc_curve\n",
    "%matplotlib inline"
   ]
  },
  {
   "cell_type": "markdown",
   "id": "6b0e06c5-a761-4a5a-bd2d-47abe46afd38",
   "metadata": {},
   "source": [
    "### Exploratory Data Analysis "
   ]
  },
  {
   "cell_type": "code",
   "execution_count": 5,
   "id": "2170e101-6945-4231-9b4d-e988f4dd53f2",
   "metadata": {},
   "outputs": [
    {
     "name": "stdout",
     "output_type": "stream",
     "text": [
      "(284807, 31)\n"
     ]
    },
    {
     "data": {
      "text/plain": [
       "<AxesSubplot:>"
      ]
     },
     "execution_count": 5,
     "metadata": {},
     "output_type": "execute_result"
    },
    {
     "data": {
      "image/png": "[encoded data removed]",
      "text/plain": [
       "<Figure size 432x288 with 2 Axes>"
      ]
     },
     "metadata": {
      "needs_background": "light"
     },
     "output_type": "display_data"
    }
   ],
   "source": [
    "print(df.shape)\n",
    "#sns.pairplot(df.iloc[ : , : 10], kind='scatter', diag_kind='kde')\n",
    "sns.heatmap(df.corr(), cmap='jet')"
   ]
  },
  {
   "cell_type": "markdown",
   "id": "e07165a6-2d99-4ae2-afd4-64d83b7cbb2c",
   "metadata": {},
   "source": [
    "##### Split the columns in X and y \n",
    "Exclude time from X, y has only the last column Class "
   ]
  },
  {
   "cell_type": "code",
   "execution_count": 6,
   "id": "f85936ee-76a4-4741-8f42-d11a81675226",
   "metadata": {},
   "outputs": [
    {
     "data": {
      "text/plain": [
       "(         V1        V2        V3        V4        V5        V6        V7  \\\n",
       " 0 -1.359807 -0.072781  2.536347  1.378155 -0.338321  0.462388  0.239599   \n",
       " 1  1.191857  0.266151  0.166480  0.448154  0.060018 -0.082361 -0.078803   \n",
       " 2 -1.358354 -1.340163  1.773209  0.379780 -0.503198  1.800499  0.791461   \n",
       " 3 -0.966272 -0.185226  1.792993 -0.863291 -0.010309  1.247203  0.237609   \n",
       " 4 -1.158233  0.877737  1.548718  0.403034 -0.407193  0.095921  0.592941   \n",
       " \n",
       "          V8        V9       V10  ...       V20       V21       V22       V23  \\\n",
       " 0  0.098698  0.363787  0.090794  ...  0.251412 -0.018307  0.277838 -0.110474   \n",
       " 1  0.085102 -0.255425 -0.166974  ... -0.069083 -0.225775 -0.638672  0.101288   \n",
       " 2  0.247676 -1.514654  0.207643  ...  0.524980  0.247998  0.771679  0.909412   \n",
       " 3  0.377436 -1.387024 -0.054952  ... -0.208038 -0.108300  0.005274 -0.190321   \n",
       " 4 -0.270533  0.817739  0.753074  ...  0.408542 -0.009431  0.798278 -0.137458   \n",
       " \n",
       "         V24       V25       V26       V27       V28  Amount  \n",
       " 0  0.066928  0.128539 -0.189115  0.133558 -0.021053  149.62  \n",
       " 1 -0.339846  0.167170  0.125895 -0.008983  0.014724    2.69  \n",
       " 2 -0.689281 -0.327642 -0.139097 -0.055353 -0.059752  378.66  \n",
       " 3 -1.175575  0.647376 -0.221929  0.062723  0.061458  123.50  \n",
       " 4  0.141267 -0.206010  0.502292  0.219422  0.215153   69.99  \n",
       " \n",
       " [5 rows x 29 columns],\n",
       "    Class\n",
       " 0      0\n",
       " 1      0\n",
       " 2      0\n",
       " 3      0\n",
       " 4      0)"
      ]
     },
     "execution_count": 6,
     "metadata": {},
     "output_type": "execute_result"
    }
   ],
   "source": [
    "#excluding Time and the Class columns from X dataset\n",
    "X = df.iloc[:, 1:30]\n",
    "y = df.iloc[:, 30:31]\n",
    "X.head(), y.head()"
   ]
  },
  {
   "cell_type": "markdown",
   "id": "b846e68c-424c-4a66-bc36-aab78d060a14",
   "metadata": {},
   "source": [
    "#### Scale the Amount column \n",
    "We first scale the Amount column (which is the only column that has raw data, the rest of the columns are annonimized PCA components\n",
    "Then, we split the X and y datasets into 25% test and 75% train. As the number of positive fraud class is very low 0.17%, we use the `stratify=y` option in the split function. The percentage of the true values in both the train and test datasets are the same."
   ]
  },
  {
   "cell_type": "code",
   "execution_count": 7,
   "id": "5b519172-3077-46fc-9ef8-5a11ce48fa15",
   "metadata": {},
   "outputs": [],
   "source": [
    "#Normalize the Amount data in the input X \n",
    "from sklearn.preprocessing import scale\n",
    "X.Amount = scale(X.Amount)\n",
    "X_train, X_test, y_train, y_test = train_test_split(X, y, test_size=0.25,random_state=5,stratify=y)"
   ]
  },
  {
   "cell_type": "code",
   "execution_count": 8,
   "id": "94746f93-1ad1-4251-adba-0e55a914c85f",
   "metadata": {},
   "outputs": [
    {
     "name": "stdout",
     "output_type": "stream",
     "text": [
      "Fraud count train:  Class    369\n",
      "dtype: int64\n",
      "Fraud count test:  Class    123\n",
      "dtype: int64\n",
      "Class    0.001727\n",
      "dtype: float64\n",
      "Class    0.001727\n",
      "dtype: float64\n"
     ]
    }
   ],
   "source": [
    "print('Fraud count train: ', np.sum(y_train))\n",
    "print('Fraud count test: ', np.sum(y_test))\n",
    "print(np.sum(y_train)/y_train.shape[0])\n",
    "print(np.sum(y_test)/y_test.shape[0])\n"
   ]
  },
  {
   "cell_type": "markdown",
   "id": "8aaa7e00-2131-4914-981e-4129a55e8e23",
   "metadata": {},
   "source": [
    "### Random Forest classifier from sklearn\n",
    "We start with an ensemble model Random forest, we try different values of max_depth and check the accuracy, recall and other scores"
   ]
  },
  {
   "cell_type": "code",
   "execution_count": 9,
   "id": "49181353-e86d-43fd-90e6-fa3d66e8dead",
   "metadata": {},
   "outputs": [
    {
     "name": "stderr",
     "output_type": "stream",
     "text": [
      "C:\\Users\\azull\\AppData\\Local\\Temp/ipykernel_33908/1953559994.py:3: DataConversionWarning: A column-vector y was passed when a 1d array was expected. Please change the shape of y to (n_samples,), for example using ravel().\n",
      "  clf.fit(X_train, y_train)\n"
     ]
    }
   ],
   "source": [
    "from sklearn.ensemble import RandomForestClassifier\n",
    "clf = RandomForestClassifier(n_jobs=-1,max_depth=100)\n",
    "clf.fit(X_train, y_train)\n",
    "\n",
    "y_pred = clf.predict(X_test)\n"
   ]
  },
  {
   "cell_type": "code",
   "execution_count": 10,
   "id": "6bb4cb41-c71b-486d-a710-883ed4a942b2",
   "metadata": {},
   "outputs": [
    {
     "name": "stdout",
     "output_type": "stream",
     "text": [
      "accuracy:  0.9995786635206876\n",
      "precision:  0.9696969696969697\n",
      "recall:  0.7804878048780488\n",
      "f1:  0.8648648648648648\n",
      "roc-auc score:  0.8902227991595747\n",
      "PR-auc score:  0.7572158621070648\n",
      "[[71076     3]\n",
      " [   27    96]]\n"
     ]
    }
   ],
   "source": [
    "from sklearn.metrics import accuracy_score, confusion_matrix, precision_score, recall_score, \\\n",
    "                            f1_score, ConfusionMatrixDisplay, average_precision_score\n",
    "\n",
    "def print_scores(y_test, y_pred): \n",
    "    print('accuracy: ', accuracy_score(y_test, y_pred))\n",
    "    print('precision: ', precision_score(y_test, y_pred))\n",
    "    print('recall: ', recall_score(y_test, y_pred))\n",
    "    print('f1: ', f1_score(y_test, y_pred))\n",
    "    print('roc-auc score: ', roc_auc_score(y_test, y_pred))\n",
    "    print('PR-auc score: ', average_precision_score(y_test, y_pred))\n",
    "    print(confusion_matrix(y_test, y_pred))\n",
    "\n",
    "# TN FP \n",
    "# FN TP\n",
    "print_scores(y_test, y_pred)"
   ]
  },
  {
   "cell_type": "markdown",
   "id": "81690d2f-58ca-425c-8d13-aa51bb972c19",
   "metadata": {},
   "source": [
    "#### Random Forest classifier perfomance \n",
    "The recall score below 80% is unacceptable from a Bank risk tolerance perspective\n",
    "Hence, we will explore other classifiers and see if we can get better prediction results\n",
    "We will next explore the **Logistic Regression** classifier\n",
    "Shown below is the ROC curve showing the area under the curve (AUC). ROC_AUC score was 88% which is not bad, but we will see if it can be improved upon."
   ]
  },
  {
   "cell_type": "code",
   "execution_count": 11,
   "id": "d9fcd76a-6e1e-49cd-8fc9-96edc567b0d0",
   "metadata": {},
   "outputs": [
    {
     "data": {
      "image/png": "[encoded data removed]",
      "text/plain": [
       "<Figure size 432x288 with 1 Axes>"
      ]
     },
     "metadata": {
      "needs_background": "light"
     },
     "output_type": "display_data"
    }
   ],
   "source": [
    "from sklearn.metrics import roc_curve\n",
    "from sklearn.metrics import RocCurveDisplay\n",
    "\n",
    "#y_score = clf.decision_function(X_test)\n",
    "\n",
    "fpr, tpr, _ = roc_curve(y_test, y_pred, pos_label=clf.classes_[1])\n",
    "roc_display = RocCurveDisplay(fpr=fpr, tpr=tpr).plot()"
   ]
  },
  {
   "cell_type": "markdown",
   "id": "fe9ebd93-ff8a-480c-8d29-ab63ee69932a",
   "metadata": {},
   "source": [
    "### Logistic Regression\n",
    "We next try and see if using the Logistic Regression classifier gives better predictions"
   ]
  },
  {
   "cell_type": "code",
   "execution_count": 11,
   "id": "cbd9ab82-0474-4bca-a0e7-07394bc76d6e",
   "metadata": {},
   "outputs": [
    {
     "name": "stderr",
     "output_type": "stream",
     "text": [
      "C:\\Users\\azull\\anaconda3\\lib\\site-packages\\sklearn\\utils\\validation.py:993: DataConversionWarning: A column-vector y was passed when a 1d array was expected. Please change the shape of y to (n_samples, ), for example using ravel().\n",
      "  y = column_or_1d(y, warn=True)\n"
     ]
    },
    {
     "name": "stdout",
     "output_type": "stream",
     "text": [
      "accuracy:  0.9991292379427544\n",
      "precision:  0.8860759493670886\n",
      "recall:  0.5691056910569106\n",
      "f1:  0.693069306930693\n",
      "roc-auc score:  0.7844895356901063\n",
      "[[71070     9]\n",
      " [   53    70]]\n"
     ]
    }
   ],
   "source": [
    "LogReg = LogisticRegression(solver='liblinear').fit(X_train,y_train)\n",
    "y_pred = LogReg.predict(X_test)\n",
    "print_scores(y_test, y_pred)"
   ]
  },
  {
   "cell_type": "markdown",
   "id": "d8b3604b-ac5b-422d-a60e-8a9cf39ff629",
   "metadata": {},
   "source": [
    "**Recal score is slightly better than Random forest**"
   ]
  },
  {
   "cell_type": "code",
   "execution_count": 12,
   "id": "888666c2-e3b3-4cfa-9b4b-4885e61ac361",
   "metadata": {},
   "outputs": [
    {
     "name": "stderr",
     "output_type": "stream",
     "text": [
      "C:\\Users\\azull\\anaconda3\\lib\\site-packages\\sklearn\\utils\\validation.py:993: DataConversionWarning: A column-vector y was passed when a 1d array was expected. Please change the shape of y to (n_samples, ), for example using ravel().\n",
      "  y = column_or_1d(y, warn=True)\n"
     ]
    },
    {
     "name": "stdout",
     "output_type": "stream",
     "text": [
      "accuracy:  0.9991292379427544\n",
      "precision:  0.8860759493670886\n",
      "recall:  0.5691056910569106\n",
      "f1:  0.693069306930693\n",
      "roc-auc score:  0.7844895356901063\n",
      "[[71070     9]\n",
      " [   53    70]]\n"
     ]
    }
   ],
   "source": [
    "LogReg = LogisticRegression(C=3).fit(X_train,y_train)\n",
    "y_pred = LogReg.predict(X_test)\n",
    "print_scores(y_test, y_pred)"
   ]
  },
  {
   "cell_type": "markdown",
   "id": "191a31f2-af28-4767-9b23-58c8a88acbb3",
   "metadata": {},
   "source": [
    "**Recall scores are identical using the default solver. However it is still below 80%. Hence we will explore more classifiers**"
   ]
  },
  {
   "cell_type": "code",
   "execution_count": 13,
   "id": "8296f270-4de5-4bdf-96c9-542fa90ce995",
   "metadata": {},
   "outputs": [
    {
     "name": "stderr",
     "output_type": "stream",
     "text": [
      "C:\\Users\\azull\\anaconda3\\lib\\site-packages\\sklearn\\utils\\validation.py:993: DataConversionWarning: A column-vector y was passed when a 1d array was expected. Please change the shape of y to (n_samples, ), for example using ravel().\n",
      "  y = column_or_1d(y, warn=True)\n"
     ]
    },
    {
     "name": "stdout",
     "output_type": "stream",
     "text": [
      "accuracy:  0.9991292379427544\n",
      "precision:  0.8860759493670886\n",
      "recall:  0.5691056910569106\n",
      "f1:  0.693069306930693\n",
      "roc-auc score:  0.7844895356901063\n",
      "[[71070     9]\n",
      " [   53    70]]\n"
     ]
    }
   ],
   "source": [
    "LogReg = LogisticRegression(solver='newton-cg',C=10).fit(X_train,y_train)\n",
    "y_pred = LogReg.predict(X_test)\n",
    "print_scores(y_test, y_pred)"
   ]
  },
  {
   "cell_type": "markdown",
   "id": "6e48c3aa-e5b1-4ded-b643-1fb3f859b154",
   "metadata": {},
   "source": [
    "##### Recall scores do not change with `newton-cg` solver "
   ]
  },
  {
   "cell_type": "code",
   "execution_count": 9,
   "id": "8bd63767-c5c2-4cc3-b26a-eb8816ecbe98",
   "metadata": {},
   "outputs": [
    {
     "name": "stderr",
     "output_type": "stream",
     "text": [
      "C:\\Users\\azull\\anaconda3\\lib\\site-packages\\sklearn\\utils\\validation.py:993: DataConversionWarning: A column-vector y was passed when a 1d array was expected. Please change the shape of y to (n_samples, ), for example using ravel().\n",
      "  y = column_or_1d(y, warn=True)\n"
     ]
    }
   ],
   "source": [
    "from sklearn.svm import SVC\n",
    "\n",
    "SVC_clf = SVC(kernel='sigmoid', C=1, gamma=1, random_state=5)\n",
    "SVC_clf.fit(X_train, y_train)\n",
    "y_pred = SVC_clf.predict(X_test)\n"
   ]
  },
  {
   "cell_type": "code",
   "execution_count": 8,
   "id": "0f72c075-d95c-45dc-a4e9-7c0e3fbb731d",
   "metadata": {},
   "outputs": [
    {
     "name": "stdout",
     "output_type": "stream",
     "text": [
      "accuracy:  0.9965871745175697\n",
      "precision:  0.07746478873239436\n",
      "recall:  0.08943089430894309\n",
      "f1:  0.0830188679245283\n",
      "roc-auc score:  0.5437939372851712\n",
      "[[70948   131]\n",
      " [  112    11]]\n"
     ]
    }
   ],
   "source": [
    "print_scores(y_test, y_pred)"
   ]
  },
  {
   "cell_type": "markdown",
   "id": "92594035-bbef-4722-8e20-263a8d4ac139",
   "metadata": {},
   "source": [
    "##### Support vector machines classifier does not produce acceptable results\n",
    "So far Logistic regression has provided the highest recall and roc_auc score\n",
    "Next we will try using **Gradient Boosting classifier**\n",
    "We will use `GridSearchCV` to do a grid search and find the best paramaters to use with the Gradient Booster "
   ]
  },
  {
   "cell_type": "code",
   "execution_count": 9,
   "id": "19387703-2324-4779-85de-6a6d17e9e5ca",
   "metadata": {},
   "outputs": [
    {
     "name": "stderr",
     "output_type": "stream",
     "text": [
      "C:\\Users\\azull\\anaconda3\\lib\\site-packages\\sklearn\\ensemble\\_gb.py:494: DataConversionWarning: A column-vector y was passed when a 1d array was expected. Please change the shape of y to (n_samples, ), for example using ravel().\n",
      "  y = column_or_1d(y, warn=True)\n",
      "C:\\Users\\azull\\anaconda3\\lib\\site-packages\\sklearn\\ensemble\\_gb.py:494: DataConversionWarning: A column-vector y was passed when a 1d array was expected. Please change the shape of y to (n_samples, ), for example using ravel().\n",
      "  y = column_or_1d(y, warn=True)\n"
     ]
    },
    {
     "name": "stdout",
     "output_type": "stream",
     "text": [
      "--- 3537.1536254882812 seconds ---\n"
     ]
    }
   ],
   "source": [
    "from sklearn.ensemble import GradientBoostingClassifier\n",
    "from sklearn.model_selection import GridSearchCV\n",
    "import time\n",
    "start_time = time.time()\n",
    "\n",
    "GB_clf = GradientBoostingClassifier(learning_rate=0.5,random_state=5).fit(X_train, y_train)\n",
    "\n",
    "clf = GridSearchCV(GB_clf, {'max_depth': [2, 4, 6],\n",
    "                            'n_estimators': [50, 100, 200]},\n",
    "                             n_jobs=-1)\n",
    "\n",
    "clf.fit(X_train, y_train)\n",
    "y_pred = clf.predict(X_test)\n",
    "print(\"--- %s seconds ---\" % (time.time() - start_time))"
   ]
  },
  {
   "cell_type": "code",
   "execution_count": 10,
   "id": "42b6fc63-ce46-4747-a284-d62e01ba2f51",
   "metadata": {},
   "outputs": [
    {
     "name": "stdout",
     "output_type": "stream",
     "text": [
      "accuracy:  0.9985393668717171\n",
      "precision:  0.7209302325581395\n",
      "recall:  0.25203252032520324\n",
      "f1:  0.37349397590361444\n",
      "roc-auc score:  0.6259318470448031\n",
      "[[71067    12]\n",
      " [   92    31]]\n"
     ]
    }
   ],
   "source": [
    "print_scores(y_test, y_pred)"
   ]
  },
  {
   "cell_type": "code",
   "execution_count": 11,
   "id": "6bc3b863-4da5-490d-b167-b77ea46f34a1",
   "metadata": {},
   "outputs": [
    {
     "name": "stdout",
     "output_type": "stream",
     "text": [
      "0.9989045200252802\n",
      "{'max_depth': 4, 'n_estimators': 50}\n"
     ]
    }
   ],
   "source": [
    "print(clf.best_score_)\n",
    "print(clf.best_params_)"
   ]
  },
  {
   "cell_type": "markdown",
   "id": "accd7982-d77d-4630-9b3d-69f8560d22b4",
   "metadata": {},
   "source": [
    "#### XGBoost classifier\n",
    "XGBoost stands for extreme gradient boost. It uses decision tree ensemble models. The tree ensemble model consists of a set of classification and regression trees (CART). CART is a slightly different concept from a decision tree, in that, it assigns a score to the leaf nodes thus providing richer interpretations that go beyond classification. You can read more about [XGBoost](https://xgboost.readthedocs.io/en/stable/tutorials/model.html) here."
   ]
  },
  {
   "cell_type": "code",
   "execution_count": 12,
   "id": "d879319f-c26a-4e4d-9a0d-ec191a876be6",
   "metadata": {},
   "outputs": [
    {
     "name": "stdout",
     "output_type": "stream",
     "text": [
      "accuracy:  0.9996207971686188\n",
      "precision:  0.98\n",
      "recall:  0.7967479674796748\n",
      "f1:  0.8789237668161434\n",
      "roc-auc score:  0.8983599148868711\n",
      "[[71077     2]\n",
      " [   25    98]]\n",
      "0.9995365277030033\n",
      "{'max_depth': 4, 'n_estimators': 200}\n",
      "--- 734.1184651851654 seconds ---\n"
     ]
    }
   ],
   "source": [
    "import xgboost as xgb\n",
    "from sklearn.model_selection import GridSearchCV\n",
    "\n",
    "start_time = time.time()\n",
    "\n",
    "xgb_clf = xgb.XGBClassifier(n_jobs=-1)\n",
    "clf = GridSearchCV(xgb_clf, {'max_depth': [2, 4, 6],\n",
    "                             'n_estimators': [50, 100, 200]}, n_jobs=-1)\n",
    "clf.fit(X_train, y_train)\n",
    "y_pred = clf.predict(X_test)\n",
    "print_scores(y_test, y_pred)\n",
    "print(clf.best_score_)\n",
    "print(clf.best_params_)\n",
    "print(\"--- %s seconds ---\" % (time.time() - start_time))"
   ]
  },
  {
   "cell_type": "markdown",
   "id": "2d730b99-cc95-4cd2-9783-2f3d0c794de5",
   "metadata": {},
   "source": [
    "**The performance of XGBoost is the best so far, with a recall just shy of 80% and roc_auc score of almost 90%**\n",
    "\n",
    "We take the best paramters found by the grid search executed above and do further tuning of the model using the regularization paramaters `reg_alpha` L1 regularization and `reg_lambda` L2 regularization. Regularization of models are very important to prevent overfitting with the training data. Models that use regularization tend to genralize better when using new data."
   ]
  },
  {
   "cell_type": "code",
   "execution_count": 13,
   "id": "3f6e83e9-41bd-464a-92fa-c42ffbf45ac9",
   "metadata": {},
   "outputs": [
    {
     "name": "stdout",
     "output_type": "stream",
     "text": [
      "accuracy:  0.9996207971686188\n",
      "precision:  0.9705882352941176\n",
      "recall:  0.8048780487804879\n",
      "f1:  0.8800000000000001\n",
      "roc-auc score:  0.9024179211107942\n",
      "[[71076     3]\n",
      " [   24    99]]\n",
      "0.9995318461646499\n",
      "{'reg_alpha': 1, 'reg_lambda': 5}\n",
      "--- 1651.3001246452332 seconds ---\n"
     ]
    }
   ],
   "source": [
    "start_time = time.time()\n",
    "\n",
    "xgb_clf2 = xgb.XGBClassifier(n_jobs=-1,max_depth=4, n_estimators=200)\n",
    "clf2 = GridSearchCV(xgb_clf2, {'reg_alpha': [1, 10, 20, 30],\n",
    "                              'reg_lambda': [0, 1, 5, 10]}, n_jobs=-1)\n",
    "clf2.fit(X_train, y_train)\n",
    "y_pred2 = clf2.predict(X_test)\n",
    "print_scores(y_test, y_pred2)\n",
    "print(clf2.best_score_)\n",
    "print(clf2.best_params_)\n",
    "print(\"--- %s seconds ---\" % (time.time() - start_time))"
   ]
  },
  {
   "cell_type": "markdown",
   "id": "b8a2e3e9-8b65-4a11-a49b-6ba812786468",
   "metadata": {},
   "source": [
    "The usage of the regularization paramters does have a slight impact on the recall and roc_auc score. Best parameters selected so far:\n",
    "1. `max_depth=4`\n",
    "2. `n_estimators=200`\n",
    "3. `reg_alpha=1`\n",
    "4. `reg_lambda=5`\n",
    "\n",
    "**Next we will plot the ROC curve for the above model**"
   ]
  },
  {
   "cell_type": "code",
   "execution_count": null,
   "id": "88e6d8c5-b91d-4aea-9544-af6d9083492d",
   "metadata": {},
   "outputs": [
    {
     "data": {
      "image/png": "[encoded data removed]",
      "text/plain": [
       "<Figure size 432x288 with 1 Axes>"
      ]
     },
     "metadata": {
      "needs_background": "light"
     },
     "output_type": "display_data"
    }
   ],
   "source": [
    "from sklearn.metrics import roc_curve\n",
    "from sklearn.metrics import RocCurveDisplay\n",
    "\n",
    "#y_score = clf.decision_function(X_test)\n",
    "\n",
    "fpr, tpr, _ = roc_curve(y_test, y_pred2, pos_label=clf2.classes_[1])\n",
    "roc_display = RocCurveDisplay(fpr=fpr, tpr=tpr).plot()"
   ]
  },
  {
   "cell_type": "markdown",
   "id": "2191ec1f-0057-4bf0-b313-726421466a51",
   "metadata": {},
   "source": [
    "##### We will next use grid search one more time to find a good learning rate\n",
    "\n",
    "We also add a parameter `importance_type='gain'` so that the feature importance score based on gain is output. We then combine feature importance score to get the most important features"
   ]
  },
  {
   "cell_type": "code",
   "execution_count": 13,
   "id": "d55ebb66-b48f-43d6-b166-67c602a610e6",
   "metadata": {},
   "outputs": [
    {
     "name": "stdout",
     "output_type": "stream",
     "text": [
      "accuracy:  0.9996207971686188\n",
      "precision:  0.9705882352941176\n",
      "recall:  0.8048780487804879\n",
      "f1:  0.8800000000000001\n",
      "roc-auc score:  0.9024179211107942\n",
      "PR-auc score:  0.7815422341762763\n",
      "[[71076     3]\n",
      " [   24    99]]\n",
      "--- 45.21172380447388 seconds ---\n"
     ]
    }
   ],
   "source": [
    "import xgboost as xgb\n",
    "from sklearn.model_selection import GridSearchCV\n",
    "import time\n",
    "\n",
    "start_time = time.time()\n",
    "\n",
    "clf3 = xgb.XGBClassifier(n_jobs=-1,max_depth=4, n_estimators=200, reg_alpha=1, reg_lambda=5, \n",
    "                        importance_type='gain')\n",
    "clf3.fit(X_train, y_train)\n",
    "y_pred3 = clf3.predict(X_test)\n",
    "print_scores(y_test, y_pred3)\n",
    "print(\"--- %s seconds ---\" % (time.time() - start_time))\n",
    "\n",
    "# TN FP \n",
    "# FN TP"
   ]
  },
  {
   "cell_type": "code",
   "execution_count": 14,
   "id": "ccb134c2-f7cd-42ef-a1ec-67f367cda2a9",
   "metadata": {},
   "outputs": [
    {
     "data": {
      "text/html": [
       "<div>\n",
       "<style scoped>\n",
       "    .dataframe tbody tr th:only-of-type {\n",
       "        vertical-align: middle;\n",
       "    }\n",
       "\n",
       "    .dataframe tbody tr th {\n",
       "        vertical-align: top;\n",
       "    }\n",
       "\n",
       "    .dataframe thead th {\n",
       "        text-align: right;\n",
       "    }\n",
       "</style>\n",
       "<table border=\"1\" class=\"dataframe\">\n",
       "  <thead>\n",
       "    <tr style=\"text-align: right;\">\n",
       "      <th></th>\n",
       "      <th>0</th>\n",
       "    </tr>\n",
       "  </thead>\n",
       "  <tbody>\n",
       "    <tr>\n",
       "      <th>V17</th>\n",
       "      <td>0.380811</td>\n",
       "    </tr>\n",
       "    <tr>\n",
       "      <th>V14</th>\n",
       "      <td>0.158114</td>\n",
       "    </tr>\n",
       "    <tr>\n",
       "      <th>V4</th>\n",
       "      <td>0.050615</td>\n",
       "    </tr>\n",
       "    <tr>\n",
       "      <th>V7</th>\n",
       "      <td>0.039989</td>\n",
       "    </tr>\n",
       "    <tr>\n",
       "      <th>V10</th>\n",
       "      <td>0.032970</td>\n",
       "    </tr>\n",
       "    <tr>\n",
       "      <th>V12</th>\n",
       "      <td>0.027806</td>\n",
       "    </tr>\n",
       "    <tr>\n",
       "      <th>V20</th>\n",
       "      <td>0.024560</td>\n",
       "    </tr>\n",
       "    <tr>\n",
       "      <th>V28</th>\n",
       "      <td>0.019791</td>\n",
       "    </tr>\n",
       "    <tr>\n",
       "      <th>V27</th>\n",
       "      <td>0.019740</td>\n",
       "    </tr>\n",
       "    <tr>\n",
       "      <th>V8</th>\n",
       "      <td>0.019490</td>\n",
       "    </tr>\n",
       "    <tr>\n",
       "      <th>V26</th>\n",
       "      <td>0.017323</td>\n",
       "    </tr>\n",
       "    <tr>\n",
       "      <th>V9</th>\n",
       "      <td>0.016435</td>\n",
       "    </tr>\n",
       "    <tr>\n",
       "      <th>V3</th>\n",
       "      <td>0.014957</td>\n",
       "    </tr>\n",
       "    <tr>\n",
       "      <th>V18</th>\n",
       "      <td>0.014420</td>\n",
       "    </tr>\n",
       "    <tr>\n",
       "      <th>V21</th>\n",
       "      <td>0.013696</td>\n",
       "    </tr>\n",
       "    <tr>\n",
       "      <th>Amount</th>\n",
       "      <td>0.013484</td>\n",
       "    </tr>\n",
       "    <tr>\n",
       "      <th>V2</th>\n",
       "      <td>0.013335</td>\n",
       "    </tr>\n",
       "    <tr>\n",
       "      <th>V5</th>\n",
       "      <td>0.013224</td>\n",
       "    </tr>\n",
       "    <tr>\n",
       "      <th>V16</th>\n",
       "      <td>0.012962</td>\n",
       "    </tr>\n",
       "    <tr>\n",
       "      <th>V1</th>\n",
       "      <td>0.011835</td>\n",
       "    </tr>\n",
       "    <tr>\n",
       "      <th>V13</th>\n",
       "      <td>0.011808</td>\n",
       "    </tr>\n",
       "    <tr>\n",
       "      <th>V6</th>\n",
       "      <td>0.011337</td>\n",
       "    </tr>\n",
       "    <tr>\n",
       "      <th>V19</th>\n",
       "      <td>0.011177</td>\n",
       "    </tr>\n",
       "    <tr>\n",
       "      <th>V25</th>\n",
       "      <td>0.010684</td>\n",
       "    </tr>\n",
       "    <tr>\n",
       "      <th>V11</th>\n",
       "      <td>0.010173</td>\n",
       "    </tr>\n",
       "    <tr>\n",
       "      <th>V15</th>\n",
       "      <td>0.008541</td>\n",
       "    </tr>\n",
       "    <tr>\n",
       "      <th>V22</th>\n",
       "      <td>0.007550</td>\n",
       "    </tr>\n",
       "    <tr>\n",
       "      <th>V23</th>\n",
       "      <td>0.007401</td>\n",
       "    </tr>\n",
       "    <tr>\n",
       "      <th>V24</th>\n",
       "      <td>0.005771</td>\n",
       "    </tr>\n",
       "  </tbody>\n",
       "</table>\n",
       "</div>"
      ],
      "text/plain": [
       "               0\n",
       "V17     0.380811\n",
       "V14     0.158114\n",
       "V4      0.050615\n",
       "V7      0.039989\n",
       "V10     0.032970\n",
       "V12     0.027806\n",
       "V20     0.024560\n",
       "V28     0.019791\n",
       "V27     0.019740\n",
       "V8      0.019490\n",
       "V26     0.017323\n",
       "V9      0.016435\n",
       "V3      0.014957\n",
       "V18     0.014420\n",
       "V21     0.013696\n",
       "Amount  0.013484\n",
       "V2      0.013335\n",
       "V5      0.013224\n",
       "V16     0.012962\n",
       "V1      0.011835\n",
       "V13     0.011808\n",
       "V6      0.011337\n",
       "V19     0.011177\n",
       "V25     0.010684\n",
       "V11     0.010173\n",
       "V15     0.008541\n",
       "V22     0.007550\n",
       "V23     0.007401\n",
       "V24     0.005771"
      ]
     },
     "execution_count": 14,
     "metadata": {},
     "output_type": "execute_result"
    }
   ],
   "source": [
    "#print(clf3.best_score_)\n",
    "#print(clf3.best_params_)\n",
    "\n",
    "df_clf = pd.DataFrame(clf3.feature_importances_, index=clf3.feature_names_in_)\n",
    "imp_feat = df_clf.sort_values(by=0,ascending=False)\n",
    "imp_feat"
   ]
  },
  {
   "cell_type": "markdown",
   "id": "723805e5-e123-4ad7-9e51-615010d92fd7",
   "metadata": {},
   "source": [
    "#### Most important features, in descending order of importance\n",
    "1. `V17` \n",
    "2. `V14`\n",
    "3. `V4`\n",
    "4. `V7`\n",
    "\n",
    "The feature names are anonimized and only the variable numbers are available. Interestingly the `Amount` feature does not appear in the top most important features. \n",
    "\n",
    "The **recall score** for this model is also above **80%** and the **roc_auc score** is above **90%** which are within acceptable risk tolerance levels for the card issuers. The **PR-AUC** or Precision-Recall Area under curve score is also higher than previously tested models at **78%**\n",
    "\n"
   ]
  }
 ],
 "metadata": {
  "kernelspec": {
   "display_name": "Python 3 (ipykernel)",
   "language": "python",
   "name": "python3"
  },
  "language_info": {
   "codemirror_mode": {
    "name": "ipython",
    "version": 3
   },
   "file_extension": ".py",
   "mimetype": "text/x-python",
   "name": "python",
   "nbconvert_exporter": "python",
   "pygments_lexer": "ipython3",
   "version": "3.8.12"
  }
 },
 "nbformat": 4,
 "nbformat_minor": 5
}
